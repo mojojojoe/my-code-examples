{
  "cells": [
    {
      "cell_type": "markdown",
      "metadata": {
        "id": "view-in-github",
        "colab_type": "text"
      },
      "source": [
        "<a href=\"https://colab.research.google.com/github/mojojojoe/my-code-examples/blob/main/EDA%20DCF.ipynb\" target=\"_parent\"><img src=\"https://colab.research.google.com/assets/colab-badge.svg\" alt=\"Open In Colab\"/></a>"
      ]
    },
    {
      "cell_type": "markdown",
      "id": "d74d968e",
      "metadata": {
        "id": "d74d968e"
      },
      "source": [
        "# EDA of FMP data used for DCF"
      ]
    },
    {
      "cell_type": "code",
      "execution_count": 1,
      "id": "40cd2848",
      "metadata": {
        "id": "40cd2848"
      },
      "outputs": [],
      "source": [
        "# building a functino to extract data from financialmodelingprep.com\n",
        "import requests\n",
        "import pandas as pd\n",
        "import numpy as np\n",
        "import json\n",
        "import datetime\n",
        "\n",
        "def get_statement(company_ticker, statement_name, api_key, frequency='annual', df = False):\n",
        "    \"\"\"\n",
        "    Get a financial statement to use for fundamental calculations\n",
        "\n",
        "    inputs:\n",
        "    company_ticker (str) -- e.g. 'AAPL' for Apple inc.\n",
        "    statement_name (str) -- one of: 'income-statement','balance-sheet-statement','cash-flow-statement','enterprise-value'\n",
        "    period (str) -- 'annual' or 'quarter'\n",
        "    forecast_period (int) -- Number of years you wish to forecast\n",
        "    api_key (str) -- api key to access financialmodelingprep account\n",
        "\n",
        "    returns:\n",
        "    Pandas DataFrame object\n",
        "    \"\"\"\n",
        "    if statement_name in ['income-statement','balance-sheet-statement','cash-flow-statement', 'enterprise-values', 'ratios']:\n",
        "\n",
        "        statement = requests.get(f'https://financialmodelingprep.com/api/v3/{statement_name}/{company_ticker}?period={frequency}&apikey={api_key}').json()\n",
        "\n",
        "        if df:\n",
        "            statement = pd.DataFrame.from_dict(statement)\n",
        "            statement = statement.iloc[:, 5:-2]  #these columns are not useful or repetitive\n",
        "\n",
        "\n",
        "        else:\n",
        "            pass\n",
        "\n",
        "    return statement"
      ]
    },
    {
      "cell_type": "code",
      "execution_count": 2,
      "id": "85fe8525",
      "metadata": {
        "id": "85fe8525"
      },
      "outputs": [],
      "source": [
        "# print statement eda to have a quick look at the data\n",
        "def df_summary(df, name=\"DataFrame\"):\n",
        "    print(f\"--- {name}.info() ---\")\n",
        "    print(df.info())\n",
        "    print()\n",
        "\n",
        "    print(f\"--- {name}.describe() ---\")\n",
        "    print(df.describe(include='all'))\n",
        "    print()\n",
        "\n",
        "    print(f\"--- {name}.head() ---\")\n",
        "    print(df.head())\n",
        "    print()"
      ]
    },
    {
      "cell_type": "code",
      "execution_count": 3,
      "id": "8e16b17b",
      "metadata": {
        "id": "8e16b17b"
      },
      "outputs": [],
      "source": [
        "#some columns only have zero as a value so we will drop them:\n",
        "def drop_zero_columns(df):\n",
        "    numeric_columns = df.select_dtypes(include=['number']).columns\n",
        "\n",
        "    for column in numeric_columns:\n",
        "        if df[column].sum() == 0:\n",
        "            print(f'{column} only has zero values')\n",
        "            df.drop(column, axis=1, inplace=True)\n"
      ]
    },
    {
      "cell_type": "code",
      "execution_count": 4,
      "id": "9df44ccd",
      "metadata": {
        "id": "9df44ccd"
      },
      "outputs": [],
      "source": [
        "#data extraction from financial modelling prep\n",
        "\n",
        "api_key= 'your_api_key'\n",
        "ticker= 'AAPL'\n",
        "company_ticker = ticker\n",
        "base_url='https://financialmodelingprep.com/api/v3/'"
      ]
    },
    {
      "cell_type": "code",
      "execution_count": 5,
      "id": "77041373",
      "metadata": {
        "id": "77041373",
        "outputId": "a2c11ef6-110a-49fc-f489-ff7578fca797",
        "colab": {
          "base_uri": "https://localhost:8080/",
          "height": 371
        }
      },
      "outputs": [
        {
          "output_type": "error",
          "ename": "ValueError",
          "evalue": "If using all scalar values, you must pass an index",
          "traceback": [
            "\u001b[0;31m---------------------------------------------------------------------------\u001b[0m",
            "\u001b[0;31mValueError\u001b[0m                                Traceback (most recent call last)",
            "\u001b[0;32m<ipython-input-5-d27dbb784017>\u001b[0m in \u001b[0;36m<cell line: 0>\u001b[0;34m()\u001b[0m\n\u001b[1;32m      1\u001b[0m \u001b[0;31m# income statement\u001b[0m\u001b[0;34m\u001b[0m\u001b[0;34m\u001b[0m\u001b[0m\n\u001b[1;32m      2\u001b[0m \u001b[0;31m# some of the columns have only 0 values so they are dropped\u001b[0m\u001b[0;34m\u001b[0m\u001b[0;34m\u001b[0m\u001b[0m\n\u001b[0;32m----> 3\u001b[0;31m \u001b[0mincome_statement\u001b[0m \u001b[0;34m=\u001b[0m \u001b[0mpd\u001b[0m\u001b[0;34m.\u001b[0m\u001b[0mDataFrame\u001b[0m\u001b[0;34m(\u001b[0m\u001b[0mget_statement\u001b[0m\u001b[0;34m(\u001b[0m\u001b[0mcompany_ticker\u001b[0m\u001b[0;34m,\u001b[0m \u001b[0;34m'income-statement'\u001b[0m\u001b[0;34m,\u001b[0m \u001b[0mapi_key\u001b[0m\u001b[0;34m,\u001b[0m \u001b[0mfrequency\u001b[0m\u001b[0;34m=\u001b[0m\u001b[0;34m'annual'\u001b[0m\u001b[0;34m,\u001b[0m \u001b[0mdf\u001b[0m\u001b[0;34m=\u001b[0m\u001b[0;32mFalse\u001b[0m\u001b[0;34m)\u001b[0m\u001b[0;34m)\u001b[0m\u001b[0;34m\u001b[0m\u001b[0;34m\u001b[0m\u001b[0m\n\u001b[0m\u001b[1;32m      4\u001b[0m \u001b[0;32mif\u001b[0m \u001b[0;32mnot\u001b[0m \u001b[0mincome_statement\u001b[0m\u001b[0;34m.\u001b[0m\u001b[0mempty\u001b[0m\u001b[0;34m:\u001b[0m\u001b[0;34m\u001b[0m\u001b[0;34m\u001b[0m\u001b[0m\n\u001b[1;32m      5\u001b[0m     \u001b[0mincome_statement\u001b[0m \u001b[0;34m=\u001b[0m \u001b[0mincome_statement\u001b[0m\u001b[0;34m.\u001b[0m\u001b[0miloc\u001b[0m\u001b[0;34m[\u001b[0m\u001b[0;34m:\u001b[0m\u001b[0;34m,\u001b[0m \u001b[0;36m5\u001b[0m\u001b[0;34m:\u001b[0m\u001b[0;34m-\u001b[0m\u001b[0;36m2\u001b[0m\u001b[0;34m]\u001b[0m\u001b[0;34m\u001b[0m\u001b[0;34m\u001b[0m\u001b[0m\n",
            "\u001b[0;32m/usr/local/lib/python3.11/dist-packages/pandas/core/frame.py\u001b[0m in \u001b[0;36m__init__\u001b[0;34m(self, data, index, columns, dtype, copy)\u001b[0m\n\u001b[1;32m    776\u001b[0m         \u001b[0;32melif\u001b[0m \u001b[0misinstance\u001b[0m\u001b[0;34m(\u001b[0m\u001b[0mdata\u001b[0m\u001b[0;34m,\u001b[0m \u001b[0mdict\u001b[0m\u001b[0;34m)\u001b[0m\u001b[0;34m:\u001b[0m\u001b[0;34m\u001b[0m\u001b[0;34m\u001b[0m\u001b[0m\n\u001b[1;32m    777\u001b[0m             \u001b[0;31m# GH#38939 de facto copy defaults to False only in non-dict cases\u001b[0m\u001b[0;34m\u001b[0m\u001b[0;34m\u001b[0m\u001b[0m\n\u001b[0;32m--> 778\u001b[0;31m             \u001b[0mmgr\u001b[0m \u001b[0;34m=\u001b[0m \u001b[0mdict_to_mgr\u001b[0m\u001b[0;34m(\u001b[0m\u001b[0mdata\u001b[0m\u001b[0;34m,\u001b[0m \u001b[0mindex\u001b[0m\u001b[0;34m,\u001b[0m \u001b[0mcolumns\u001b[0m\u001b[0;34m,\u001b[0m \u001b[0mdtype\u001b[0m\u001b[0;34m=\u001b[0m\u001b[0mdtype\u001b[0m\u001b[0;34m,\u001b[0m \u001b[0mcopy\u001b[0m\u001b[0;34m=\u001b[0m\u001b[0mcopy\u001b[0m\u001b[0;34m,\u001b[0m \u001b[0mtyp\u001b[0m\u001b[0;34m=\u001b[0m\u001b[0mmanager\u001b[0m\u001b[0;34m)\u001b[0m\u001b[0;34m\u001b[0m\u001b[0;34m\u001b[0m\u001b[0m\n\u001b[0m\u001b[1;32m    779\u001b[0m         \u001b[0;32melif\u001b[0m \u001b[0misinstance\u001b[0m\u001b[0;34m(\u001b[0m\u001b[0mdata\u001b[0m\u001b[0;34m,\u001b[0m \u001b[0mma\u001b[0m\u001b[0;34m.\u001b[0m\u001b[0mMaskedArray\u001b[0m\u001b[0;34m)\u001b[0m\u001b[0;34m:\u001b[0m\u001b[0;34m\u001b[0m\u001b[0;34m\u001b[0m\u001b[0m\n\u001b[1;32m    780\u001b[0m             \u001b[0;32mfrom\u001b[0m \u001b[0mnumpy\u001b[0m\u001b[0;34m.\u001b[0m\u001b[0mma\u001b[0m \u001b[0;32mimport\u001b[0m \u001b[0mmrecords\u001b[0m\u001b[0;34m\u001b[0m\u001b[0;34m\u001b[0m\u001b[0m\n",
            "\u001b[0;32m/usr/local/lib/python3.11/dist-packages/pandas/core/internals/construction.py\u001b[0m in \u001b[0;36mdict_to_mgr\u001b[0;34m(data, index, columns, dtype, typ, copy)\u001b[0m\n\u001b[1;32m    501\u001b[0m             \u001b[0marrays\u001b[0m \u001b[0;34m=\u001b[0m \u001b[0;34m[\u001b[0m\u001b[0mx\u001b[0m\u001b[0;34m.\u001b[0m\u001b[0mcopy\u001b[0m\u001b[0;34m(\u001b[0m\u001b[0;34m)\u001b[0m \u001b[0;32mif\u001b[0m \u001b[0mhasattr\u001b[0m\u001b[0;34m(\u001b[0m\u001b[0mx\u001b[0m\u001b[0;34m,\u001b[0m \u001b[0;34m\"dtype\"\u001b[0m\u001b[0;34m)\u001b[0m \u001b[0;32melse\u001b[0m \u001b[0mx\u001b[0m \u001b[0;32mfor\u001b[0m \u001b[0mx\u001b[0m \u001b[0;32min\u001b[0m \u001b[0marrays\u001b[0m\u001b[0;34m]\u001b[0m\u001b[0;34m\u001b[0m\u001b[0;34m\u001b[0m\u001b[0m\n\u001b[1;32m    502\u001b[0m \u001b[0;34m\u001b[0m\u001b[0m\n\u001b[0;32m--> 503\u001b[0;31m     \u001b[0;32mreturn\u001b[0m \u001b[0marrays_to_mgr\u001b[0m\u001b[0;34m(\u001b[0m\u001b[0marrays\u001b[0m\u001b[0;34m,\u001b[0m \u001b[0mcolumns\u001b[0m\u001b[0;34m,\u001b[0m \u001b[0mindex\u001b[0m\u001b[0;34m,\u001b[0m \u001b[0mdtype\u001b[0m\u001b[0;34m=\u001b[0m\u001b[0mdtype\u001b[0m\u001b[0;34m,\u001b[0m \u001b[0mtyp\u001b[0m\u001b[0;34m=\u001b[0m\u001b[0mtyp\u001b[0m\u001b[0;34m,\u001b[0m \u001b[0mconsolidate\u001b[0m\u001b[0;34m=\u001b[0m\u001b[0mcopy\u001b[0m\u001b[0;34m)\u001b[0m\u001b[0;34m\u001b[0m\u001b[0;34m\u001b[0m\u001b[0m\n\u001b[0m\u001b[1;32m    504\u001b[0m \u001b[0;34m\u001b[0m\u001b[0m\n\u001b[1;32m    505\u001b[0m \u001b[0;34m\u001b[0m\u001b[0m\n",
            "\u001b[0;32m/usr/local/lib/python3.11/dist-packages/pandas/core/internals/construction.py\u001b[0m in \u001b[0;36marrays_to_mgr\u001b[0;34m(arrays, columns, index, dtype, verify_integrity, typ, consolidate)\u001b[0m\n\u001b[1;32m    112\u001b[0m         \u001b[0;31m# figure out the index, if necessary\u001b[0m\u001b[0;34m\u001b[0m\u001b[0;34m\u001b[0m\u001b[0m\n\u001b[1;32m    113\u001b[0m         \u001b[0;32mif\u001b[0m \u001b[0mindex\u001b[0m \u001b[0;32mis\u001b[0m \u001b[0;32mNone\u001b[0m\u001b[0;34m:\u001b[0m\u001b[0;34m\u001b[0m\u001b[0;34m\u001b[0m\u001b[0m\n\u001b[0;32m--> 114\u001b[0;31m             \u001b[0mindex\u001b[0m \u001b[0;34m=\u001b[0m \u001b[0m_extract_index\u001b[0m\u001b[0;34m(\u001b[0m\u001b[0marrays\u001b[0m\u001b[0;34m)\u001b[0m\u001b[0;34m\u001b[0m\u001b[0;34m\u001b[0m\u001b[0m\n\u001b[0m\u001b[1;32m    115\u001b[0m         \u001b[0;32melse\u001b[0m\u001b[0;34m:\u001b[0m\u001b[0;34m\u001b[0m\u001b[0;34m\u001b[0m\u001b[0m\n\u001b[1;32m    116\u001b[0m             \u001b[0mindex\u001b[0m \u001b[0;34m=\u001b[0m \u001b[0mensure_index\u001b[0m\u001b[0;34m(\u001b[0m\u001b[0mindex\u001b[0m\u001b[0;34m)\u001b[0m\u001b[0;34m\u001b[0m\u001b[0;34m\u001b[0m\u001b[0m\n",
            "\u001b[0;32m/usr/local/lib/python3.11/dist-packages/pandas/core/internals/construction.py\u001b[0m in \u001b[0;36m_extract_index\u001b[0;34m(data)\u001b[0m\n\u001b[1;32m    665\u001b[0m \u001b[0;34m\u001b[0m\u001b[0m\n\u001b[1;32m    666\u001b[0m     \u001b[0;32mif\u001b[0m \u001b[0;32mnot\u001b[0m \u001b[0mindexes\u001b[0m \u001b[0;32mand\u001b[0m \u001b[0;32mnot\u001b[0m \u001b[0mraw_lengths\u001b[0m\u001b[0;34m:\u001b[0m\u001b[0;34m\u001b[0m\u001b[0;34m\u001b[0m\u001b[0m\n\u001b[0;32m--> 667\u001b[0;31m         \u001b[0;32mraise\u001b[0m \u001b[0mValueError\u001b[0m\u001b[0;34m(\u001b[0m\u001b[0;34m\"If using all scalar values, you must pass an index\"\u001b[0m\u001b[0;34m)\u001b[0m\u001b[0;34m\u001b[0m\u001b[0;34m\u001b[0m\u001b[0m\n\u001b[0m\u001b[1;32m    668\u001b[0m \u001b[0;34m\u001b[0m\u001b[0m\n\u001b[1;32m    669\u001b[0m     \u001b[0;32mif\u001b[0m \u001b[0mhave_series\u001b[0m\u001b[0;34m:\u001b[0m\u001b[0;34m\u001b[0m\u001b[0;34m\u001b[0m\u001b[0m\n",
            "\u001b[0;31mValueError\u001b[0m: If using all scalar values, you must pass an index"
          ]
        }
      ],
      "source": [
        "# income statement\n",
        "# some of the columns have only 0 values so they are dropped\n",
        "income_statement = pd.DataFrame(get_statement(company_ticker, 'income-statement', api_key, frequency='annual', df=False))\n",
        "if not income_statement.empty:\n",
        "    income_statement = income_statement.iloc[:, 5:-2]\n",
        "\n",
        "drop_zero_columns(income_statement)\n",
        "\n",
        "df_summary(income_statement, name=\"Income Statement\")"
      ]
    },
    {
      "cell_type": "code",
      "execution_count": null,
      "id": "436fb285",
      "metadata": {
        "id": "436fb285"
      },
      "outputs": [],
      "source": [
        "# balance sheet yearly\n",
        "balance_sheet = get_statement(company_ticker, 'balance-sheet-statement', api_key, frequency='annual', df=True)\n",
        "drop_zero_columns(balance_sheet)\n",
        "df_summary(balance_sheet, name=\"Balance Sheet\")"
      ]
    },
    {
      "cell_type": "code",
      "execution_count": null,
      "id": "84c7ac2b",
      "metadata": {
        "id": "84c7ac2b"
      },
      "outputs": [],
      "source": [
        "#cashflow statement\n",
        "cashflow_statement= get_statement(company_ticker, 'cash-flow-statement', api_key, frequency = 'annual', df=True)\n",
        "drop_zero_columns(cashflow_statement)\n",
        "df_summary(cashflow_statement, name= 'cash flow statement')\n"
      ]
    },
    {
      "cell_type": "code",
      "execution_count": null,
      "id": "2807cae6",
      "metadata": {
        "id": "2807cae6"
      },
      "outputs": [],
      "source": [
        "# financial ratios\n",
        "financial_ratios= get_statement(company_ticker, 'ratios', api_key, frequency= 'annual', df= True)\n",
        "drop_zero_columns(financial_ratios)\n",
        "df_summary(financial_ratios, name= 'financial ratios')"
      ]
    },
    {
      "cell_type": "code",
      "execution_count": null,
      "id": "48a7ffba",
      "metadata": {
        "id": "48a7ffba"
      },
      "outputs": [],
      "source": [
        "financial_ratios.columns"
      ]
    },
    {
      "cell_type": "code",
      "execution_count": null,
      "id": "17fef4cd",
      "metadata": {
        "id": "17fef4cd"
      },
      "outputs": [],
      "source": []
    }
  ],
  "metadata": {
    "kernelspec": {
      "display_name": "Python 3",
      "language": "python",
      "name": "python3"
    },
    "language_info": {
      "codemirror_mode": {
        "name": "ipython",
        "version": 3
      },
      "file_extension": ".py",
      "mimetype": "text/x-python",
      "name": "python",
      "nbconvert_exporter": "python",
      "pygments_lexer": "ipython3",
      "version": "3.13.3"
    },
    "colab": {
      "provenance": [],
      "include_colab_link": true
    }
  },
  "nbformat": 4,
  "nbformat_minor": 5
}