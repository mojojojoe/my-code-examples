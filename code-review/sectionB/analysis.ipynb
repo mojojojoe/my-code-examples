{
  "cells": [
    {
      "cell_type": "markdown",
      "metadata": {
        "id": "U8KKGepRHhhs"
      },
      "source": [
        "# Corporate takeovers in Africa (2016-2021)"
      ]
    },
    {
      "cell_type": "markdown",
      "metadata": {
        "id": "rbtWBfV2Hhht"
      },
      "source": [
        "This is confidential data. The data is a list of all the mergers and acquisitions announced in Africa over a period of time (2016-2021). There is no quantitative data. The information is a listing containing the names of the target and aquiror companies, their sectors and nation of domicile. The analysis is done by grouping the categories and counting line numbers. There are some interesting insights that would be of benefit to researchers and decision makers, whether in government or the private sector."
      ]
    },
    {
      "cell_type": "code",
      "source": [
        "R.version"
      ],
      "metadata": {
        "colab": {
          "base_uri": "https://localhost:8080/",
          "height": 277
        },
        "id": "Zlhx0VUvITJN",
        "outputId": "a18a9a66-01f7-412b-8619-1188dd957b2a"
      },
      "execution_count": 4,
      "outputs": [
        {
          "output_type": "display_data",
          "data": {
            "text/plain": [
              "               _                           \n",
              "platform       x86_64-pc-linux-gnu         \n",
              "arch           x86_64                      \n",
              "os             linux-gnu                   \n",
              "system         x86_64, linux-gnu           \n",
              "status                                     \n",
              "major          4                           \n",
              "minor          5.0                         \n",
              "year           2025                        \n",
              "month          04                          \n",
              "day            11                          \n",
              "svn rev        88135                       \n",
              "language       R                           \n",
              "version.string R version 4.5.0 (2025-04-11)\n",
              "nickname       How About a Twenty-Six      "
            ]
          },
          "metadata": {}
        }
      ]
    },
    {
      "cell_type": "markdown",
      "metadata": {
        "id": "F6M4xWURHhht"
      },
      "source": [
        "This notebook is written in R. The libraries used are loaded first."
      ]
    },
    {
      "cell_type": "code",
      "source": [
        "setRepositories(ind = c(1:6, 8))"
      ],
      "metadata": {
        "id": "8GBldoIiI4KH"
      },
      "execution_count": 5,
      "outputs": []
    },
    {
      "cell_type": "code",
      "source": [
        "install.packages(\"Rgraphviz\")\n"
      ],
      "metadata": {
        "colab": {
          "base_uri": "https://localhost:8080/"
        },
        "id": "fC_jdXzjHz2t",
        "outputId": "b3175e4f-a7e4-49c2-e5d7-79f1ceff8da0"
      },
      "execution_count": 6,
      "outputs": [
        {
          "output_type": "stream",
          "name": "stderr",
          "text": [
            "Installing package into ‘/usr/local/lib/R/site-library’\n",
            "(as ‘lib’ is unspecified)\n",
            "\n",
            "Warning message:\n",
            "“unable to access index for repository NA/src/contrib:\n",
            "  cannot open URL 'NA/src/contrib/PACKAGES'”\n",
            "also installing the dependencies ‘BiocGenerics’, ‘graph’\n",
            "\n",
            "\n"
          ]
        }
      ]
    },
    {
      "cell_type": "code",
      "execution_count": 8,
      "metadata": {
        "id": "wJnLzt69Hhhu"
      },
      "outputs": [],
      "source": [
        "library(tidyverse);\n",
        "library(Rgraphviz)"
      ]
    },
    {
      "cell_type": "markdown",
      "metadata": {
        "id": "gI6rYHO3Hhhv"
      },
      "source": [
        "Then the data is loaded."
      ]
    },
    {
      "cell_type": "code",
      "execution_count": 10,
      "metadata": {
        "colab": {
          "base_uri": "https://localhost:8080/",
          "height": 280
        },
        "id": "9YyXMOjAHhhw",
        "outputId": "3d5b4edf-98f2-4ec3-e65e-307f74b80c59"
      },
      "outputs": [
        {
          "output_type": "error",
          "ename": "ERROR",
          "evalue": "Error: `path` does not exist: ‘https://github.com/mojojojoe/my-code-examples/raw/refs/heads/main/code-review/sectionB/resources/data.xls’\n",
          "traceback": [
            "Error: `path` does not exist: ‘https://github.com/mojojojoe/my-code-examples/raw/refs/heads/main/code-review/sectionB/resources/data.xls’\nTraceback:\n",
            "1. check_file(path)",
            "2. stop(\"`path` does not exist: \", sQuote(path), call. = FALSE)",
            "3. .handleSimpleError(function (cnd) \n . {\n .     watcher$capture_plot_and_output()\n .     cnd <- sanitize_call(cnd)\n .     watcher$push(cnd)\n .     switch(on_error, continue = invokeRestart(\"eval_continue\"), \n .         stop = invokeRestart(\"eval_stop\"), error = NULL)\n . }, \"`path` does not exist: ‘https://github.com/mojojojoe/my-code-examples/raw/refs/heads/main/code-review/sectionB/resources/data.xls’\", \n .     base::quote(NULL))"
          ]
        }
      ],
      "source": []
    },
    {
      "cell_type": "markdown",
      "metadata": {
        "id": "9eThVOixHhhw"
      },
      "source": [
        "The relevant columns are selected and extracted into a tibble (a table) named \"takeover\"."
      ]
    },
    {
      "cell_type": "code",
      "execution_count": null,
      "metadata": {
        "id": "2k1EB403Hhhw"
      },
      "outputs": [],
      "source": [
        "takeovers <- data %>%\n",
        "    select(dt=DateAnnounced,\n",
        "           t.nam=Target.nam,\n",
        "           a.nam=Acquiror.nam,\n",
        "           t.sec=Target.sector,\n",
        "           a.sec=Acquiror.sec,\n",
        "           t.nat=Target.nat,\n",
        "           a.nat=Acquiror.nat);\n",
        "\n",
        "head(takeovers,3)"
      ]
    },
    {
      "cell_type": "markdown",
      "metadata": {
        "id": "vtYRZ1xGHhhw"
      },
      "source": [
        "Other than white space around entries (which should be cleaned up), the data looks fine."
      ]
    },
    {
      "cell_type": "markdown",
      "metadata": {
        "id": "6GIgjekfHhhx"
      },
      "source": [
        "To start with the analysis, look at the per nation acquisitions in Africa. Only nations with 3 or more takeovers are considered."
      ]
    },
    {
      "cell_type": "code",
      "execution_count": null,
      "metadata": {
        "id": "-yJobQmAHhhx"
      },
      "outputs": [],
      "source": [
        "group.a.nat  <-  takeovers %>% group_by(a.nat) %>% summarise(n=n());\n",
        "group.a.nat  <- group.a.nat[order(group.a.nat$n,decreasing=TRUE),] %>% filter(n>2)\n",
        "names(group.a.nat) <- c(\"Acquiror nation\", \"Count\")\n",
        "group.a.nat\n",
        "names(group.a.nat) <- c(\"a.nat\", \"n\")\n"
      ]
    },
    {
      "cell_type": "markdown",
      "metadata": {
        "id": "VATsTCLiHhhx"
      },
      "source": [
        "Seeing this it is apparent that the US (40), UK (31) and France (19) are the 3 nations outside of Africa  heavily involved in takeovers of African companies. Other major takeover nations within Africa are Mauritius (13) and South Africa (35).\n",
        "*Possible reasons*\n",
        "Until recently South Africa's economy was the largest in Africa, so their takeover tally might be expected. Mauritius has drawn much invest in recent years due to its very favourable tax laws. It could be that expatriated companies are becoming involved in takeovers of African companies to domicile themselves in Mauritius.\n",
        "The large number of takeovers from US, UK and France may reflect the history between nations and also the value being offered by African countries over the last 5 years.\n",
        "\n",
        "Looking at the target nations: (only nations with 3 or more takeovers are listed)"
      ]
    },
    {
      "cell_type": "code",
      "execution_count": null,
      "metadata": {
        "id": "5sob7_QdHhhx"
      },
      "outputs": [],
      "source": [
        "group.t.nat  <-  takeovers %>% group_by(t.nat) %>% summarise(n=n());\n",
        "group.t.nat  <- group.t.nat[order(group.t.nat$n,decreasing=TRUE),] %>% filter(n>2)\n",
        "names(group.t.nat) <- c(\"Target nation\", \"Count\")\n",
        "group.t.nat\n",
        "names(group.t.nat) <- c(\"t.nat\", \"n\")\n"
      ]
    },
    {
      "cell_type": "markdown",
      "metadata": {
        "id": "I-H0bOdOHhhy"
      },
      "source": [
        "Here, one can see that there are four major countries in Africa facing the lion share of corporate takeovers.\n",
        "The nations are SA, Nigeria, Egypt and Kenya. Between them South Africa has nearly 3 times the number of takeovers as the second highest contender, Egypt and it takes the 2nd (Egypt),3rd (Nigeria) and 4th (Kenya) contenders to match the number of takeovers in South Africa. This seems to reflect a case of distress amongst companies in South Africa, that there should be so many targeted companies for takeover."
      ]
    },
    {
      "cell_type": "markdown",
      "metadata": {
        "id": "WaoSHHpeHhhy"
      },
      "source": [
        "Now, look at the country specific relation between acquiror and target nations. Only nations with 3 or more takeovers are listed."
      ]
    },
    {
      "cell_type": "code",
      "execution_count": null,
      "metadata": {
        "id": "SYWUtdJAHhhy"
      },
      "outputs": [],
      "source": [
        "group.t.nat.a.nat <- takeovers %>% group_by(a.nat,t.nat) %>% summarise(n=n());\n",
        "group.t.nat.a.nat <- group.t.nat.a.nat[order(group.t.nat.a.nat$n,decreasing = TRUE),] %>% filter(n>2)\n",
        "names(group.t.nat.a.nat) <- c(\"Acquiror nation\",\"Target nation\",\"Tally\");group.t.nat.a.nat\n",
        "names(group.t.nat.a.nat) <- c(\"a.nat\",\"t.nat\",\"n\")"
      ]
    },
    {
      "cell_type": "markdown",
      "metadata": {
        "id": "41jcXPSKHhhy"
      },
      "source": [
        "*Acquirors*"
      ]
    },
    {
      "cell_type": "code",
      "execution_count": null,
      "metadata": {
        "id": "ddr02NpXHhhy"
      },
      "outputs": [],
      "source": [
        "acquirors <- levels(as.factor(group.t.nat.a.nat$a.nat));acquirors"
      ]
    },
    {
      "cell_type": "markdown",
      "metadata": {
        "id": "U5zzj6uJHhhy"
      },
      "source": [
        "*Targets*"
      ]
    },
    {
      "cell_type": "code",
      "execution_count": null,
      "metadata": {
        "id": "3xpHk1oqHhhy"
      },
      "outputs": [],
      "source": [
        "targets <- levels(as.factor(group.t.nat.a.nat$t.nat));targets"
      ]
    },
    {
      "cell_type": "markdown",
      "metadata": {
        "id": "HbeHczIdHhhy"
      },
      "source": [
        "Now these relationships can be plotted with a directed graph."
      ]
    },
    {
      "cell_type": "code",
      "execution_count": null,
      "metadata": {
        "id": "kLSUG_g7Hhhy"
      },
      "outputs": [],
      "source": [
        "reg <- ftM2graphNEL(ft = as.matrix(group.t.nat.a.nat[,-3]), edgemode=\"directed\")"
      ]
    },
    {
      "cell_type": "markdown",
      "metadata": {
        "id": "gnb9XOQKHhhz"
      },
      "source": [
        "The edges of the graph can be numbered, although formatting needs to be worked on because the numbers are too small to see in the graph."
      ]
    },
    {
      "cell_type": "code",
      "execution_count": null,
      "metadata": {
        "id": "cAm-tpMlHhhz"
      },
      "outputs": [],
      "source": [
        "ew <- as.character(group.t.nat.a.nat$n)\n",
        "names(ew) <- edgeNames(reg)\n",
        "#edgeNames(reg)\n",
        "eAttrs <- list()\n",
        "eAttrs$label <- ew\n",
        "plot(reg,edgeAttrs=eAttrs)"
      ]
    },
    {
      "cell_type": "markdown",
      "metadata": {
        "id": "O3mGtnzeHhhz"
      },
      "source": [
        "Due to time constraints on the author the analysis will end here."
      ]
    }
  ],
  "metadata": {
    "celltoolbar": "Slideshow",
    "kernelspec": {
      "display_name": "R",
      "language": "R",
      "name": "ir"
    },
    "language_info": {
      "codemirror_mode": "r",
      "file_extension": ".r",
      "mimetype": "text/x-r-source",
      "name": "R",
      "pygments_lexer": "r",
      "version": "3.6.3"
    },
    "colab": {
      "provenance": []
    }
  },
  "nbformat": 4,
  "nbformat_minor": 0
}